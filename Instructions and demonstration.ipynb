{
  "nbformat": 4,
  "nbformat_minor": 0,
  "metadata": {
    "colab": {
      "name": "Copy of calculator.ipynb",
      "provenance": [],
      "collapsed_sections": [],
      "include_colab_link": true
    },
    "kernelspec": {
      "name": "python3",
      "display_name": "Python 3"
    },
    "language_info": {
      "name": "python"
    }
  },
  "cells": [
    {
      "cell_type": "markdown",
      "metadata": {
        "id": "view-in-github",
        "colab_type": "text"
      },
      "source": [
        "<a href=\"https://colab.research.google.com/github/LiucijaSvink/calculator/blob/main/Instructions%20and%20demonstration.ipynb\" target=\"_parent\"><img src=\"https://colab.research.google.com/assets/colab-badge.svg\" alt=\"Open In Colab\"/></a>"
      ]
    },
    {
      "cell_type": "markdown",
      "metadata": {
        "id": "d5JFlkSGpTDG"
      },
      "source": [
        "# Instructions and demonstration of calculator\n",
        "\n",
        "## Installation\n",
        "\n",
        "To install the calculator package use !pip command as illustrated below."
      ]
    },
    {
      "cell_type": "code",
      "metadata": {
        "id": "OfDg5Y_cjMyj"
      },
      "source": [
        "!pip install git+https://github.com/LiucijaSvink/calculator.git"
      ],
      "execution_count": null,
      "outputs": []
    },
    {
      "cell_type": "markdown",
      "metadata": {
        "id": "dKXr-XjdofmU"
      },
      "source": [
        "Once installed, the conventional module import procedure can be used to import the Calculator."
      ]
    },
    {
      "cell_type": "code",
      "metadata": {
        "id": "1TPUhdeiof1R"
      },
      "source": [
        "from calculator import Calculator"
      ],
      "execution_count": 1,
      "outputs": []
    },
    {
      "cell_type": "markdown",
      "metadata": {
        "id": "aehUMf6DqPZr"
      },
      "source": [
        "## Demonstration\n",
        "\n",
        "To initialize the calculator, call class Calculator."
      ]
    },
    {
      "cell_type": "code",
      "metadata": {
        "colab": {
          "base_uri": "https://localhost:8080/"
        },
        "id": "D_zAMaWuogHo",
        "outputId": "647ae9cb-e005-446e-bc95-794000f54576"
      },
      "source": [
        "calculator = Calculator()"
      ],
      "execution_count": 2,
      "outputs": [
        {
          "output_type": "stream",
          "name": "stdout",
          "text": [
            "0\n"
          ]
        }
      ]
    },
    {
      "cell_type": "markdown",
      "metadata": {
        "id": "eT_iP6rEqlwU"
      },
      "source": [
        "The default value of the calculator will be 0. You can also specify a number in the parentheses when starting calculator. It will be taken as a first number to perform subsequent operations on. "
      ]
    },
    {
      "cell_type": "code",
      "metadata": {
        "colab": {
          "base_uri": "https://localhost:8080/"
        },
        "id": "cd6OPQGSqrZO",
        "outputId": "ba2cb311-8e0c-4070-bb21-9b97d9549a7e"
      },
      "source": [
        "second_calculator = Calculator(6)"
      ],
      "execution_count": 3,
      "outputs": [
        {
          "output_type": "stream",
          "name": "stdout",
          "text": [
            "6\n"
          ]
        }
      ]
    },
    {
      "cell_type": "markdown",
      "metadata": {
        "id": "QB93tk5Tq4U-"
      },
      "source": [
        "The calculator can perform the following functions: \n",
        "- add\n",
        "- subtract\n",
        "- multiply\n",
        "- divide\n",
        "- take an nth root of the number (root). \n",
        "\n",
        "To perform an operation, call the corresponding function name and include a real number for operations in the parentheses."
      ]
    },
    {
      "cell_type": "code",
      "metadata": {
        "colab": {
          "base_uri": "https://localhost:8080/"
        },
        "id": "NkfK1cGrrNdB",
        "outputId": "2521c5f7-9917-41f0-abaa-87ef2a39540d"
      },
      "source": [
        "calculator.subtract(3)"
      ],
      "execution_count": 4,
      "outputs": [
        {
          "output_type": "stream",
          "name": "stdout",
          "text": [
            "3\n"
          ]
        }
      ]
    },
    {
      "cell_type": "markdown",
      "metadata": {
        "id": "b7hnwvWGrWLa"
      },
      "source": [
        "Calculator also has an internal memory. This means that the result of previous operation will be taken as first value for the next operation. For example:"
      ]
    },
    {
      "cell_type": "code",
      "metadata": {
        "colab": {
          "base_uri": "https://localhost:8080/"
        },
        "id": "kfl-Woj3rcgz",
        "outputId": "d84699a0-c993-4541-ef4c-3b038d3ac0ca"
      },
      "source": [
        "calculator.multiply(4)"
      ],
      "execution_count": 5,
      "outputs": [
        {
          "output_type": "stream",
          "name": "stdout",
          "text": [
            "12\n"
          ]
        }
      ]
    },
    {
      "cell_type": "markdown",
      "metadata": {
        "id": "-NMrygLortFx"
      },
      "source": [
        "In this case, the addition outcome 3 is multiply by 4. Hence, the result is 12. To inspect the value currently in the memory, enter:"
      ]
    },
    {
      "cell_type": "code",
      "metadata": {
        "colab": {
          "base_uri": "https://localhost:8080/",
          "height": 164
        },
        "id": "bGxu07NirrjV",
        "outputId": "67e210cc-8ff0-4b4f-acff-e0bb67b2df7f"
      },
      "source": [
        "calculator.display"
      ],
      "execution_count": 6,
      "outputs": [
        {
          "output_type": "error",
          "ename": "AttributeError",
          "evalue": "ignored",
          "traceback": [
            "\u001b[0;31m---------------------------------------------------------------------------\u001b[0m",
            "\u001b[0;31mAttributeError\u001b[0m                            Traceback (most recent call last)",
            "\u001b[0;32m<ipython-input-6-6e6ed1d4a611>\u001b[0m in \u001b[0;36m<module>\u001b[0;34m()\u001b[0m\n\u001b[0;32m----> 1\u001b[0;31m \u001b[0mcalculator\u001b[0m\u001b[0;34m.\u001b[0m\u001b[0mdisplay\u001b[0m\u001b[0;34m\u001b[0m\u001b[0;34m\u001b[0m\u001b[0m\n\u001b[0m",
            "\u001b[0;31mAttributeError\u001b[0m: 'Calculator' object has no attribute 'display'"
          ]
        }
      ]
    },
    {
      "cell_type": "markdown",
      "metadata": {
        "id": "le-dsYkprz1w"
      },
      "source": [
        "To reset memory to a specific value, use a command reset. Default reset value is 0."
      ]
    },
    {
      "cell_type": "code",
      "metadata": {
        "colab": {
          "base_uri": "https://localhost:8080/"
        },
        "id": "UgVkXDdhr54n",
        "outputId": "b555b024-9165-4cfd-e2ef-4e0fa255e73d"
      },
      "source": [
        "calculator.reset(98)"
      ],
      "execution_count": 7,
      "outputs": [
        {
          "output_type": "stream",
          "name": "stdout",
          "text": [
            "98\n"
          ]
        }
      ]
    },
    {
      "cell_type": "code",
      "metadata": {
        "colab": {
          "base_uri": "https://localhost:8080/"
        },
        "id": "eLGPVpa-smqR",
        "outputId": "1a7b18d7-8e52-47ad-ea19-7e5831053ae8"
      },
      "source": [
        "calculator.reset()"
      ],
      "execution_count": 15,
      "outputs": [
        {
          "output_type": "stream",
          "name": "stdout",
          "text": [
            "0\n"
          ]
        }
      ]
    },
    {
      "cell_type": "markdown",
      "metadata": {
        "id": "lxeB1ahQsIuk"
      },
      "source": [
        "The calculator input can be one number: integer, float or complex number. Other types of input will raise errors.\n"
      ]
    },
    {
      "cell_type": "code",
      "metadata": {
        "colab": {
          "base_uri": "https://localhost:8080/"
        },
        "id": "VcgzjDp1sIXx",
        "outputId": "3d9af25b-77bf-4a0f-8dac-add51c930c17"
      },
      "source": [
        "calculator.add(8192)\n",
        "calculator.divide(2.0)\n",
        "calculator.root(-3)"
      ],
      "execution_count": 16,
      "outputs": [
        {
          "output_type": "stream",
          "name": "stdout",
          "text": [
            "8192\n",
            "4096.0\n",
            "0.06250000000000001\n"
          ]
        }
      ]
    },
    {
      "cell_type": "markdown",
      "metadata": {
        "id": "qhD4RRx7lZZf"
      },
      "source": [
        "To get a memory value which can be assigned to a variable, use:"
      ]
    },
    {
      "cell_type": "code",
      "metadata": {
        "id": "jEeCnUMclZ4Q"
      },
      "source": [
        "result = calculator.get_memory"
      ],
      "execution_count": null,
      "outputs": []
    },
    {
      "cell_type": "markdown",
      "metadata": {
        "id": "H935FeQ6vRe-"
      },
      "source": [
        "Hopefully you will find the calculator useful for your calculations."
      ]
    }
  ]
}