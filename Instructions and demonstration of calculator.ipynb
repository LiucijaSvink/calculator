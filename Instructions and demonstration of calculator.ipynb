{
  "nbformat": 4,
  "nbformat_minor": 0,
  "metadata": {
    "colab": {
      "name": "Untitled3.ipynb",
      "provenance": [],
      "collapsed_sections": [],
      "authorship_tag": "ABX9TyPkgr1JFkK4jV7gXuQU+U9K",
      "include_colab_link": true
    },
    "kernelspec": {
      "name": "python3",
      "display_name": "Python 3"
    },
    "language_info": {
      "name": "python"
    }
  },
  "cells": [
    {
      "cell_type": "markdown",
      "metadata": {
        "id": "view-in-github",
        "colab_type": "text"
      },
      "source": [
        "<a href=\"https://colab.research.google.com/github/LiucijaSvink/calculator/blob/main/Instructions%20and%20demonstration%20of%20calculator.ipynb\" target=\"_parent\"><img src=\"https://colab.research.google.com/assets/colab-badge.svg\" alt=\"Open In Colab\"/></a>"
      ]
    },
    {
      "cell_type": "markdown",
      "metadata": {
        "id": "d5JFlkSGpTDG"
      },
      "source": [
        "# Instructions and demonstration of calculator\n",
        "\n",
        "## Installation\n",
        "\n",
        "To install the calculator package use command !pip command as illustrated below."
      ]
    },
    {
      "cell_type": "code",
      "metadata": {
        "colab": {
          "base_uri": "https://localhost:8080/"
        },
        "id": "OfDg5Y_cjMyj",
        "outputId": "c47cb266-8424-4fbd-ba9f-9c5d6c537289"
      },
      "source": [
        "!pip install git+https://github.com/LiucijaSvink/calculator.git"
      ],
      "execution_count": 28,
      "outputs": [
        {
          "output_type": "stream",
          "name": "stdout",
          "text": [
            "Collecting git+https://github.com/LiucijaSvink/calculator.git\n",
            "  Cloning https://github.com/LiucijaSvink/calculator.git to /tmp/pip-req-build-vjf42p_k\n",
            "  Running command git clone -q https://github.com/LiucijaSvink/calculator.git /tmp/pip-req-build-vjf42p_k\n",
            "Requirement already satisfied: typing in /usr/local/lib/python3.7/dist-packages (from calculator==0.0.1) (3.7.4.3)\n",
            "Requirement already satisfied: pytest in /usr/local/lib/python3.7/dist-packages (from calculator==0.0.1) (3.6.4)\n",
            "Requirement already satisfied: setuptools in /usr/local/lib/python3.7/dist-packages (from pytest->calculator==0.0.1) (57.4.0)\n",
            "Requirement already satisfied: py>=1.5.0 in /usr/local/lib/python3.7/dist-packages (from pytest->calculator==0.0.1) (1.10.0)\n",
            "Requirement already satisfied: pluggy<0.8,>=0.5 in /usr/local/lib/python3.7/dist-packages (from pytest->calculator==0.0.1) (0.7.1)\n",
            "Requirement already satisfied: attrs>=17.4.0 in /usr/local/lib/python3.7/dist-packages (from pytest->calculator==0.0.1) (21.2.0)\n",
            "Requirement already satisfied: atomicwrites>=1.0 in /usr/local/lib/python3.7/dist-packages (from pytest->calculator==0.0.1) (1.4.0)\n",
            "Requirement already satisfied: more-itertools>=4.0.0 in /usr/local/lib/python3.7/dist-packages (from pytest->calculator==0.0.1) (8.10.0)\n",
            "Requirement already satisfied: six>=1.10.0 in /usr/local/lib/python3.7/dist-packages (from pytest->calculator==0.0.1) (1.15.0)\n"
          ]
        }
      ]
    },
    {
      "cell_type": "markdown",
      "metadata": {
        "id": "dKXr-XjdofmU"
      },
      "source": [
        "Once installed, the conventional module import procedure can be used to import the Calculator."
      ]
    },
    {
      "cell_type": "code",
      "metadata": {
        "id": "1TPUhdeiof1R"
      },
      "source": [
        "from calculator import Calculator"
      ],
      "execution_count": 29,
      "outputs": []
    },
    {
      "cell_type": "markdown",
      "metadata": {
        "id": "aehUMf6DqPZr"
      },
      "source": [
        "## Demonstration\n",
        "\n",
        "To initialize the calculator, call class Calculator."
      ]
    },
    {
      "cell_type": "code",
      "metadata": {
        "colab": {
          "base_uri": "https://localhost:8080/"
        },
        "id": "D_zAMaWuogHo",
        "outputId": "e1a466db-d18b-45d5-add4-b7c733232262"
      },
      "source": [
        "calculator = Calculator()"
      ],
      "execution_count": 30,
      "outputs": [
        {
          "output_type": "stream",
          "name": "stdout",
          "text": [
            "0\n"
          ]
        }
      ]
    },
    {
      "cell_type": "markdown",
      "metadata": {
        "id": "eT_iP6rEqlwU"
      },
      "source": [
        "The default value of the calculator initialized will be 0. You can also specify a number in the parentheses when starting calculator. It will be taken as a first number to perform subsequent operations on. "
      ]
    },
    {
      "cell_type": "code",
      "metadata": {
        "colab": {
          "base_uri": "https://localhost:8080/"
        },
        "id": "cd6OPQGSqrZO",
        "outputId": "ce57cc8f-4bf6-4374-f0cf-554b1d6b65a5"
      },
      "source": [
        "second_calculator = Calculator(6)"
      ],
      "execution_count": 31,
      "outputs": [
        {
          "output_type": "stream",
          "name": "stdout",
          "text": [
            "6\n"
          ]
        }
      ]
    },
    {
      "cell_type": "markdown",
      "metadata": {
        "id": "QB93tk5Tq4U-"
      },
      "source": [
        "The calculator can perform the following functions: \n",
        "- add\n",
        "- subtract\n",
        "- multiply\n",
        "- divide\n",
        "- take an nth root of the number (root). \n",
        "\n",
        "To perform an operation, call the corresponding function name and include a real number for operations in the parentheses."
      ]
    },
    {
      "cell_type": "code",
      "metadata": {
        "colab": {
          "base_uri": "https://localhost:8080/"
        },
        "id": "NkfK1cGrrNdB",
        "outputId": "e79c01ec-6b32-459d-dfc8-03971b4ef6a1"
      },
      "source": [
        "calculator.subtract(3)"
      ],
      "execution_count": 32,
      "outputs": [
        {
          "output_type": "stream",
          "name": "stdout",
          "text": [
            "3\n"
          ]
        }
      ]
    },
    {
      "cell_type": "markdown",
      "metadata": {
        "id": "b7hnwvWGrWLa"
      },
      "source": [
        "Calculator also has memory. This means that the result of previous operation will be taken as first value for the next operation. For example:"
      ]
    },
    {
      "cell_type": "code",
      "metadata": {
        "colab": {
          "base_uri": "https://localhost:8080/"
        },
        "id": "kfl-Woj3rcgz",
        "outputId": "4bc2e2e9-00ec-49d6-a1da-a7fc567c9a69"
      },
      "source": [
        "calculator.multiply(4)"
      ],
      "execution_count": 33,
      "outputs": [
        {
          "output_type": "stream",
          "name": "stdout",
          "text": [
            "12\n"
          ]
        }
      ]
    },
    {
      "cell_type": "markdown",
      "metadata": {
        "id": "-NMrygLortFx"
      },
      "source": [
        "In this case, the addition outcome 3 is multiply by 4. Hence, the result is 12. To inspect the value currently in the memory, enter:"
      ]
    },
    {
      "cell_type": "code",
      "metadata": {
        "colab": {
          "base_uri": "https://localhost:8080/"
        },
        "id": "bGxu07NirrjV",
        "outputId": "d8c9198b-d819-4702-ec43-7761286be127"
      },
      "source": [
        "calculator.memory"
      ],
      "execution_count": 34,
      "outputs": [
        {
          "output_type": "execute_result",
          "data": {
            "text/plain": [
              "12"
            ]
          },
          "metadata": {},
          "execution_count": 34
        }
      ]
    },
    {
      "cell_type": "markdown",
      "metadata": {
        "id": "le-dsYkprz1w"
      },
      "source": [
        "To reset the memory to a specific value, use a command reset. "
      ]
    },
    {
      "cell_type": "code",
      "metadata": {
        "colab": {
          "base_uri": "https://localhost:8080/"
        },
        "id": "UgVkXDdhr54n",
        "outputId": "34daaba8-ceb5-444a-c1ec-74260ad3420a"
      },
      "source": [
        "calculator.reset(98)"
      ],
      "execution_count": 35,
      "outputs": [
        {
          "output_type": "stream",
          "name": "stdout",
          "text": [
            "98\n"
          ]
        }
      ]
    },
    {
      "cell_type": "code",
      "metadata": {
        "colab": {
          "base_uri": "https://localhost:8080/"
        },
        "id": "eLGPVpa-smqR",
        "outputId": "e499ef2d-804b-4430-a393-a430ef6adfa2"
      },
      "source": [
        "calculator.reset()"
      ],
      "execution_count": 40,
      "outputs": [
        {
          "output_type": "stream",
          "name": "stdout",
          "text": [
            "0\n"
          ]
        }
      ]
    },
    {
      "cell_type": "markdown",
      "metadata": {
        "id": "lxeB1ahQsIuk"
      },
      "source": [
        "The calculator input should be one number, either an integer or a float. As soon you provide floats for the input, the result of the following operations will also become floats."
      ]
    },
    {
      "cell_type": "code",
      "metadata": {
        "colab": {
          "base_uri": "https://localhost:8080/"
        },
        "id": "VcgzjDp1sIXx",
        "outputId": "45e5e8dd-8c82-4108-c702-3204e8b0c7a7"
      },
      "source": [
        "calculator.add(2456.0)\n",
        "calculator.divide(2)\n",
        "calculator.root(3)"
      ],
      "execution_count": 41,
      "outputs": [
        {
          "output_type": "stream",
          "name": "stdout",
          "text": [
            "2456.0\n",
            "1228.0\n",
            "10.708602276735204\n"
          ]
        }
      ]
    },
    {
      "cell_type": "markdown",
      "metadata": {
        "id": "H935FeQ6vRe-"
      },
      "source": [
        "Hopefully you will find the calculator useful for your calculations."
      ]
    }
  ]
}